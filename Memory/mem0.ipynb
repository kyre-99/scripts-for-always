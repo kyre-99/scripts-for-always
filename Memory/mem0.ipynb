{
 "cells": [
  {
   "cell_type": "markdown",
   "id": "69601d64",
   "metadata": {},
   "source": [
    "# mem0ai\n",
    "mem0是一个开源的记忆库，旨在帮助用户存储和检索信息。\\\n",
    "Mem0 的准确率比 OpenAI Memory 高 26%， 延迟降低 91%， 并节省 90% 的tokens \\\n",
    "其支持 向量数据库、图数据库、自定义LLM、自定义池化模型，并且一次可以存储多种类型的数据。\\\n",
    "地址如下：https://github.com/mem0ai/mem0"
   ]
  },
  {
   "cell_type": "markdown",
   "id": "c8d7f834",
   "metadata": {},
   "source": [
    "## 本地运行\n",
    "首先启动基本服务：\\\n",
    "1. 使用qdrant作为向量数据库，需要先启动qdrant服务，命令如下：\n",
    "```bash\n",
    "docker run -p 6333:6333 -p 6334:6334 qdrant/qdrant:v1.1.2\n",
    "```\n",
    "2. 使用 memgraph 作为知识图谱数据库，需要先启动memgraph服务，命令如下：\n",
    "```bash\n",
    "docker run -p 7687:7687 memgraph/memgraph-mage:latest --schema-info-enabled=True\n",
    "Alternatively, you can download Memgraph Lab and connect it to your existing Memgraph instance.\n",
    "```\n",
    "3. 使用ollama作为大模型，需要先启动ollama服务，命令如下：\n",
    "```bash\n",
    "ollama run qwen3:8b\n",
    "```\n",
    "4. 安装依赖pip install \"mem0ai[graph]\" ,chromadb, langchain_memgraph=0.1.1(2025.5.27 mem0 has bug in this,so install that)\n",
    "\n"
   ]
  },
  {
   "cell_type": "code",
   "execution_count": null,
   "id": "f51c5ca7",
   "metadata": {},
   "outputs": [],
   "source": []
  },
  {
   "cell_type": "code",
   "execution_count": 7,
   "id": "de784401",
   "metadata": {},
   "outputs": [],
   "source": [
    "import os\n",
    "from mem0 import Memory\n",
    "import os\n",
    "os.environ[\"OPENAI_API_KEY\"] = \"sk-zk2e84a4dda032cfd1817544f88788ee5f966f213b4dbe83\"\n",
    "config = {\n",
    "  \"graph_store\": {\n",
    "        \"provider\": \"memgraph\",\n",
    "        \"config\": {\n",
    "            \"url\": \"bolt://localhost:7687\",\n",
    "            \"username\": \"memgraph\",\n",
    "            \"password\": \"xxx\",\n",
    "        },\n",
    "    },\n",
    "   \"llm\": {\n",
    "        \"provider\": \"ollama\",\n",
    "        \"config\": {\n",
    "            \"model\": \"qwen3:8b\",\n",
    "            \"temperature\": 0,\n",
    "            \"max_tokens\": 2000,\n",
    "            \"ollama_base_url\": \"http://localhost:11434\",  # Ensure this URL is correct\n",
    "        },\n",
    "    },\n",
    "     \"vector_store\": {\n",
    "        \"provider\": \"chroma\",\n",
    "        \"config\": {\n",
    "            \"collection_name\": \"test\",\n",
    "            \"path\": \"db\",\n",
    "        }\n",
    "    },\n",
    "     \"embedder\": {\n",
    "        \"provider\": \"ollama\",\n",
    "        \"config\": {\n",
    "            \"model\": \"nomic-embed-text:latest\",\n",
    "            # Alternatively, you can use \"snowflake-arctic-embed:latest\"\n",
    "            \"ollama_base_url\": \"http://localhost:11434\",\n",
    "            \"embedding_dims\":768\n",
    "        },\n",
    "    },\n",
    "     }\n",
    "\n",
    "# Initialize Memory with the configuration\n",
    "m = Memory.from_config(config_dict = config)\n",
    "\n",
    "# Add a memory\n",
    "# m.add(\"I like pizza\", user_id=\"alice\")\n",
    "# m.add(\"I have travel to China,it is a very beautiful city,and Beijing is its capital \", user_id=\"alice\")\n",
    "# m.add(\"I have travel to China,it is a very beautiful city,and Beijing is its capital \", user_id=\"alice\")\n",
    "\n",
    "# m.add(\"I Like piano ,and I have ever join the club in university\", user_id=\"Frank\")\n"
   ]
  },
  {
   "cell_type": "markdown",
   "id": "4f3e4b50",
   "metadata": {},
   "source": [
    "## 自动创建了一个图谱关系"
   ]
  },
  {
   "cell_type": "markdown",
   "id": "fae397bb",
   "metadata": {},
   "source": [
    "![image.png](memory.png)"
   ]
  },
  {
   "cell_type": "code",
   "execution_count": 11,
   "id": "8c452471-36f3-4ef7-b80e-dd28e869264f",
   "metadata": {},
   "outputs": [],
   "source": [
    "# m.get_all(user_id=\"alice\") # wrong"
   ]
  },
  {
   "cell_type": "code",
   "execution_count": 12,
   "id": "5f637ab0-c1a5-4922-b85a-2384cc572d11",
   "metadata": {},
   "outputs": [
    {
     "data": {
      "text/plain": [
       "{'message': 'Memories deleted successfully!'}"
      ]
     },
     "execution_count": 12,
     "metadata": {},
     "output_type": "execute_result"
    }
   ],
   "source": [
    "m.search(\"tell me my name.\", user_id=\"alice\") # search memory of user\n",
    "m.delete_all(user_id=\"alice\") # delete user memory"
   ]
  },
  {
   "cell_type": "code",
   "execution_count": null,
   "id": "7839aae6-c850-4560-ae79-284f28ae1fd7",
   "metadata": {},
   "outputs": [],
   "source": []
  }
 ],
 "metadata": {
  "kernelspec": {
   "display_name": "Python 3 (ipykernel)",
   "language": "python",
   "name": "python3"
  },
  "language_info": {
   "codemirror_mode": {
    "name": "ipython",
    "version": 3
   },
   "file_extension": ".py",
   "mimetype": "text/x-python",
   "name": "python",
   "nbconvert_exporter": "python",
   "pygments_lexer": "ipython3",
   "version": "3.12.9"
  }
 },
 "nbformat": 4,
 "nbformat_minor": 5
}
